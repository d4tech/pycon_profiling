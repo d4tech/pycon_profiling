{
 "cells": [
  {
   "cell_type": "code",
   "execution_count": null,
   "metadata": {},
   "outputs": [],
   "source": [
    "import re\n",
    "import string\n",
    "import collections\n",
    "\n",
    "%load_ext line_profiler"
   ]
  },
  {
   "cell_type": "code",
   "execution_count": null,
   "metadata": {},
   "outputs": [],
   "source": [
    "with open(\"songofhiawatha.txt\", \"r\") as f:\n",
    "    poem = f.read()"
   ]
  },
  {
   "cell_type": "code",
   "execution_count": null,
   "metadata": {},
   "outputs": [],
   "source": [
    "poem = poem.split(\"\\n\")"
   ]
  },
  {
   "cell_type": "markdown",
   "metadata": {},
   "source": [
    "We want to strip out all the punctuation first."
   ]
  },
  {
   "cell_type": "code",
   "execution_count": null,
   "metadata": {},
   "outputs": [],
   "source": [
    "type(poem)"
   ]
  },
  {
   "cell_type": "code",
   "execution_count": null,
   "metadata": {
    "scrolled": false
   },
   "outputs": [],
   "source": [
    "len(poem)"
   ]
  },
  {
   "cell_type": "code",
   "execution_count": null,
   "metadata": {},
   "outputs": [],
   "source": [
    "poem[:5]"
   ]
  },
  {
   "cell_type": "code",
   "execution_count": null,
   "metadata": {},
   "outputs": [],
   "source": [
    "exclude = set(string.punctuation).union(string.digits)"
   ]
  },
  {
   "cell_type": "code",
   "execution_count": null,
   "metadata": {},
   "outputs": [],
   "source": [
    "exclude"
   ]
  },
  {
   "cell_type": "markdown",
   "metadata": {},
   "source": [
    "### A first pass at scrubbing out punctuation and numbers"
   ]
  },
  {
   "cell_type": "code",
   "execution_count": null,
   "metadata": {},
   "outputs": [],
   "source": [
    "def first(poem):\n",
    "    newline = ''\n",
    "    poem2 = []\n",
    "    for line in poem:\n",
    "        for char in line:\n",
    "            if char not in exclude:\n",
    "                newline += char\n",
    "        poem2.append(newline.lower())\n",
    "        newline = ''\n",
    "        \n",
    "    return poem2"
   ]
  },
  {
   "cell_type": "code",
   "execution_count": null,
   "metadata": {},
   "outputs": [],
   "source": [
    "%timeit first(poem)"
   ]
  },
  {
   "cell_type": "code",
   "execution_count": null,
   "metadata": {},
   "outputs": [],
   "source": [
    "%lprun -f first first(poem)"
   ]
  },
  {
   "cell_type": "code",
   "execution_count": null,
   "metadata": {},
   "outputs": [],
   "source": [
    "def second(poem):\n",
    "    poem2 = []\n",
    "    for line in poem:\n",
    "        poem2.append(''.join([char for char in line.lower() if char not in exclude]))\n",
    "    return poem2"
   ]
  },
  {
   "cell_type": "code",
   "execution_count": null,
   "metadata": {},
   "outputs": [],
   "source": [
    "%timeit second(poem)"
   ]
  },
  {
   "cell_type": "code",
   "execution_count": null,
   "metadata": {},
   "outputs": [],
   "source": [
    "%lprun -f second second(poem)"
   ]
  },
  {
   "cell_type": "markdown",
   "metadata": {},
   "source": [
    "## Exercise: If one line is slowing you down\n",
    "\n",
    "Then one thing to try is to speed up that line.\n",
    "We're still looping over every character in the line in Python, albeit in a more compact representation.\n",
    "What if we could use something to replace all the characters we don't want?\n",
    "\n",
    "```\n",
    "Some people, when confronted with a problem, think “I know,\n",
    "I'll use regular expressions.”  Now they have two problems.\n",
    "```\n",
    "\n",
    "But they can be faster.  Sometimes.\n",
    "Give it a shot.\n",
    "\n",
    "A couple of references:\n",
    "\n",
    "```python\n",
    "re.sub(REGEX_PATTERN, replacement character, input)\n",
    "```\n",
    "\n",
    "Two possibly suitable regex patterns to use:\n",
    "\n",
    "Match all characters that aren't lowercase letters or single spaces: `\"[^a-z\\s]\"`\n",
    "\n",
    "Match all characters that aren't letters or single spaces: `\"[^a-zA-Z\\s]\"`"
   ]
  },
  {
   "cell_type": "code",
   "execution_count": null,
   "metadata": {},
   "outputs": [],
   "source": [
    "def third(poem):\n",
    "    ..."
   ]
  },
  {
   "cell_type": "code",
   "execution_count": null,
   "metadata": {},
   "outputs": [],
   "source": [
    "%timeit third(poem)"
   ]
  },
  {
   "cell_type": "code",
   "execution_count": null,
   "metadata": {},
   "outputs": [],
   "source": [
    "%lprun -f third third(poem)"
   ]
  },
  {
   "cell_type": "code",
   "execution_count": null,
   "metadata": {},
   "outputs": [],
   "source": [
    "def bag_of_words(poem):\n",
    "    counters = [collections.Counter(line.split(' ')) for line in poem]\n",
    "    counter = sum(counters, collections.Counter())\n",
    "    return counter"
   ]
  },
  {
   "cell_type": "code",
   "execution_count": null,
   "metadata": {},
   "outputs": [],
   "source": [
    "def bag_of_words_re(poem):\n",
    "    counters = [collections.Counter(re.findall(\"\\w+\", line)) for line in poem]\n",
    "    counter = sum(counters, collections.Counter())\n",
    "    return counter"
   ]
  },
  {
   "cell_type": "markdown",
   "metadata": {},
   "source": [
    "## Try it out on the first 100 lines to see if it works"
   ]
  },
  {
   "cell_type": "code",
   "execution_count": null,
   "metadata": {},
   "outputs": [],
   "source": [
    "bag_of_words(third(poem[:100]))"
   ]
  },
  {
   "cell_type": "code",
   "execution_count": null,
   "metadata": {},
   "outputs": [],
   "source": [
    "%timeit bag_of_words(third(poem[:1000]))"
   ]
  },
  {
   "cell_type": "code",
   "execution_count": null,
   "metadata": {},
   "outputs": [],
   "source": [
    "%timeit bag_of_words_re(third(poem[:1000]))"
   ]
  },
  {
   "cell_type": "markdown",
   "metadata": {},
   "source": [
    "## What should we have done before writing the regex version?"
   ]
  },
  {
   "cell_type": "code",
   "execution_count": null,
   "metadata": {},
   "outputs": [],
   "source": [
    "%lprun -f bag_of_words bag_of_words(third(poem[:1000]))"
   ]
  },
  {
   "cell_type": "code",
   "execution_count": null,
   "metadata": {},
   "outputs": [],
   "source": [
    "%lprun -f bag_of_words_re bag_of_words_re(third(poem[:1000]))"
   ]
  },
  {
   "cell_type": "markdown",
   "metadata": {},
   "source": [
    "## Exercise: Make a faster bag-of-words\n",
    "\n",
    "What have we noticed from the line profiling runs?  What is taking most of the time?\n",
    "\n",
    "And remember that built-in methods are generally much faster to execute than interpreted code that we write.\n",
    "\n",
    "*hint*: what if `poem` wasn't a list?  what might be faster?\n",
    "\n",
    "### First exercise: \n",
    "\n",
    "Try to write something that can handle scrubbing out all the characters in `exclude` faster than what we have above:"
   ]
  },
  {
   "cell_type": "code",
   "execution_count": null,
   "metadata": {
    "scrolled": true
   },
   "outputs": [],
   "source": []
  },
  {
   "cell_type": "code",
   "execution_count": null,
   "metadata": {},
   "outputs": [],
   "source": [
    "#%timeit <soln>"
   ]
  },
  {
   "cell_type": "code",
   "execution_count": null,
   "metadata": {},
   "outputs": [],
   "source": [
    "#%lprun -f <soln> <soln>(poem[:1000])"
   ]
  },
  {
   "cell_type": "markdown",
   "metadata": {},
   "source": [
    "### Second exercise:\n",
    "\n",
    "Does our existing `bag_of_words` function work with the new scrubbing function?\n",
    "If not, update the `bag_of_words` so it can use the output of the scrubbing function."
   ]
  },
  {
   "cell_type": "code",
   "execution_count": null,
   "metadata": {},
   "outputs": [],
   "source": []
  },
  {
   "cell_type": "code",
   "execution_count": null,
   "metadata": {},
   "outputs": [],
   "source": [
    "#%timeit <soln>"
   ]
  }
 ],
 "metadata": {
  "kernelspec": {
   "display_name": "Python 3",
   "language": "python",
   "name": "python3"
  },
  "language_info": {
   "codemirror_mode": {
    "name": "ipython",
    "version": 3
   },
   "file_extension": ".py",
   "mimetype": "text/x-python",
   "name": "python",
   "nbconvert_exporter": "python",
   "pygments_lexer": "ipython3",
   "version": "3.7.3"
  }
 },
 "nbformat": 4,
 "nbformat_minor": 2
}
