{
 "cells": [
  {
   "cell_type": "markdown",
   "metadata": {
    "slideshow": {
     "slide_type": "slide"
    }
   },
   "source": [
    "# Python Performance for Poets\n",
    "\n",
    "## Gil Forsyth and Steven Lott\n",
    "### Capital One"
   ]
  },
  {
   "cell_type": "markdown",
   "metadata": {
    "slideshow": {
     "slide_type": "slide"
    }
   },
   "source": [
    "# Who are you and why should we listen to you?"
   ]
  },
  {
   "cell_type": "markdown",
   "metadata": {
    "slideshow": {
     "slide_type": "subslide"
    }
   },
   "source": [
    "## Gil Forsyth\n",
    "##### github: gforsyth\n",
    "\n",
    "#### Data Scientist at Capital One\n",
    "#### Core contributor and maintainer of `xonsh`\n",
    "#### Recovering PhD student in HPC / computational fluid dynamics\n",
    "#### SciPy Program Chair"
   ]
  },
  {
   "cell_type": "markdown",
   "metadata": {
    "slideshow": {
     "slide_type": "slide"
    }
   },
   "source": [
    "# Profiling tools introduction"
   ]
  },
  {
   "cell_type": "markdown",
   "metadata": {},
   "source": [
    "\"Premature optimization is the root of all evil\" - Donald Knuth\n",
    "\n",
    "\"Undirected optimization is just kind of pointless, I think\" - Gil Forsyth\n",
    "\n",
    "Profilers are timing tools.  They help you identify, at different levels of granularity, why your program takes time $T \\pm \\Delta t$ to run.\n",
    "\n",
    "You can use the information from a profile to make efficient use of _your_ time.  If you spend a day making `function_a` run in 2 ms instead of 5 ms, that's great, except that `function_b` still takes 3 minutes to complete.\n",
    "\n",
    "The tools used in this notebook are for use in... the notebook.  They do, however, all have command-line or REPL equivalents which are noted below each example."
   ]
  },
  {
   "cell_type": "markdown",
   "metadata": {
    "slideshow": {
     "slide_type": "-"
    }
   },
   "source": [
    "## Start with a poorly written program"
   ]
  },
  {
   "cell_type": "markdown",
   "metadata": {
    "slideshow": {
     "slide_type": "-"
    }
   },
   "source": [
    "There is a lot wrong with this program, starting with the fact that it doesn't do anything.  Let's ignore that for a moment and get a feel for how long it takes to run."
   ]
  },
  {
   "cell_type": "code",
   "execution_count": null,
   "metadata": {},
   "outputs": [],
   "source": [
    "import math\n",
    "from time import sleep\n",
    "\n",
    "def weird_call(S, K, T, r, sigma):\n",
    "    \"\"\"\n",
    "    S: spot price\n",
    "    K: strike price\n",
    "    T: time to maturity\n",
    "    r: interest rate\n",
    "    sigma: volatility of underlying asset\n",
    "    \"\"\"\n",
    "    def cdf(x):\n",
    "        # CDF function for the standard normal distribution\n",
    "        return (1.0 + math.erf(x / math.sqrt(2.0))) / 2.0\n",
    "    \n",
    "    d1 = (math.log(S / K) + (r + 0.5 * sigma ** 2) * T) / (sigma * math.sqrt(T))\n",
    "    d2 = (math.log(S / K) + (r - 0.5 * sigma ** 2) * T) / (sigma * math.sqrt(T))\n",
    "    \n",
    "    call = (S * cdf(d1) - K * math.exp(-r * T) * cdf(d2))\n",
    "    \n",
    "    return call\n",
    "\n",
    "def bad_call(dude):\n",
    "    sleep(.1)\n",
    "    \n",
    "def worse_call(dude):\n",
    "    sleep(.5)\n",
    "    \n",
    "def sumulate(foo):\n",
    "    if not isinstance(foo, int):\n",
    "        return\n",
    "    \n",
    "    ans = 0\n",
    "    for i in range(foo):\n",
    "        ans += i\n",
    "        \n",
    "    weird_call(50, 100, 1, 0.05, 0.25)\n",
    "    bad_call(ans)\n",
    "    worse_call(ans)\n",
    "        \n",
    "    return ans"
   ]
  },
  {
   "cell_type": "markdown",
   "metadata": {
    "slideshow": {
     "slide_type": "-"
    }
   },
   "source": [
    "# `time`"
   ]
  },
  {
   "cell_type": "code",
   "execution_count": null,
   "metadata": {
    "scrolled": true
   },
   "outputs": [],
   "source": [
    "%%time \n",
    "sumulate(150)"
   ]
  },
  {
   "cell_type": "markdown",
   "metadata": {},
   "source": [
    "real / total: amount of CPU time spent\n",
    "\n",
    "user: amount of CPU time spent in user mode.\n",
    "\n",
    "system / sys:  amount of CPU time spent in kernel mode\n",
    "\n",
    "wall: the time from start to finish of the call. Literally how much time has elapsed on the clock on the wall."
   ]
  },
  {
   "cell_type": "markdown",
   "metadata": {
    "slideshow": {
     "slide_type": "-"
    }
   },
   "source": [
    "A couple of things to note:\n",
    "\n",
    "* `sumulate(150)` was run only once\n",
    "* The output of that run was returned to us"
   ]
  },
  {
   "cell_type": "markdown",
   "metadata": {
    "slideshow": {
     "slide_type": "-"
    }
   },
   "source": [
    "### Command line equivalent (on OS X and Linux)\n",
    "\n",
    "Use the program `time`\n",
    "\n",
    "```console\n",
    "time python -c \"from poorly_written import sumulate; sumulate(150)\"\n",
    "```\n"
   ]
  },
  {
   "cell_type": "markdown",
   "metadata": {
    "slideshow": {
     "slide_type": "-"
    }
   },
   "source": [
    "# `timeit`"
   ]
  },
  {
   "cell_type": "markdown",
   "metadata": {},
   "source": [
    "That's a start, but computers have a lot of other... stuff... running.  What if I ran `%time` while Dropbox was having one a little fit?  Or Docker Desktop was trying to inhale all of my CPU cores?\n",
    "\n",
    "It would be better if we could run it a bunch of times and then look at some aggregate results, right?\n",
    "\n",
    "That's what `timeit` is for."
   ]
  },
  {
   "cell_type": "code",
   "execution_count": null,
   "metadata": {},
   "outputs": [],
   "source": [
    "%timeit sumulate(150)"
   ]
  },
  {
   "cell_type": "markdown",
   "metadata": {},
   "source": [
    "Wow, so that took much longer than the reported time to finish.  Why?  Because it ran `sumulate(150)` in a loop with 1 iteration, 7 separate times.\n",
    "\n",
    "`timeit` has a few heuristics to balance how long it takes to run with getting a useful number of results.\n",
    "\n",
    "What does that mean?  Let's try it out on something that is faster than `sumulate`"
   ]
  },
  {
   "cell_type": "code",
   "execution_count": null,
   "metadata": {},
   "outputs": [],
   "source": [
    "%timeit 1 + 1"
   ]
  },
  {
   "cell_type": "markdown",
   "metadata": {},
   "source": [
    "For a simple addition, `timeit` ran 7 separate times, with 100 million loops in each run.  It just ran that addition 700 _million_ times.  \n",
    "\n",
    "All of these options are configurable:"
   ]
  },
  {
   "cell_type": "code",
   "execution_count": null,
   "metadata": {},
   "outputs": [],
   "source": [
    "%timeit?"
   ]
  },
  {
   "cell_type": "markdown",
   "metadata": {},
   "source": [
    "The `-o` option can be especially useful if you want to save results or perform additional checks on them:"
   ]
  },
  {
   "cell_type": "code",
   "execution_count": null,
   "metadata": {},
   "outputs": [],
   "source": [
    "results = %timeit -o -q sumulate(150)"
   ]
  },
  {
   "cell_type": "code",
   "execution_count": null,
   "metadata": {},
   "outputs": [],
   "source": [
    "results.all_runs"
   ]
  },
  {
   "cell_type": "code",
   "execution_count": null,
   "metadata": {},
   "outputs": [],
   "source": [
    "results.loops"
   ]
  },
  {
   "cell_type": "markdown",
   "metadata": {},
   "source": [
    "#### Pre-run setup"
   ]
  },
  {
   "cell_type": "markdown",
   "metadata": {},
   "source": [
    "If you need to run an import or set a value for a `timeit` run but don't want that part of the code to be timed, you can list it in the first line of the multi-line `%%timeit` magic:"
   ]
  },
  {
   "cell_type": "code",
   "execution_count": null,
   "metadata": {},
   "outputs": [],
   "source": [
    "%%timeit import re; RE_PUNC=re.compile(\"[^a-z/s]\")  # this isn't part of the timing\n",
    "re.sub(RE_PUNC, \" \", \"no.more.punctuation\")"
   ]
  },
  {
   "cell_type": "code",
   "execution_count": null,
   "metadata": {},
   "outputs": [],
   "source": [
    "%%timeit\n",
    "import re\n",
    "RE_PUNC=re.compile(\"[^a-z/s]\")\n",
    "re.sub(RE_PUNC, \" \", \"no.more.punctuation\")"
   ]
  },
  {
   "cell_type": "markdown",
   "metadata": {},
   "source": [
    "### Command line equivalent"
   ]
  },
  {
   "cell_type": "markdown",
   "metadata": {},
   "source": [
    "To run `timeit` in a terminal, call the `timeit` module:\n",
    "\n",
    "```console\n",
    "python -m timeit \"1 + 1\"\n",
    "```\n",
    "\n",
    "Running `timeit` this way is when we are more likely to need to do some setup (since in the notebook functions are usually already defined):\n",
    "\n",
    "```console\n",
    "python -m timeit -s \"import re; RE_PUNC=re.compile('[^a-z/s]')\" \"re.sub(RE_PUNC, ' ', 'no.more.punctuation')\"\n",
    "```\n",
    "\n",
    "To see all the available options:\n",
    "\n",
    "```console\n",
    "python -m timeit -h\n",
    "```"
   ]
  },
  {
   "cell_type": "markdown",
   "metadata": {},
   "source": [
    "# `prun` and `cProfile`"
   ]
  },
  {
   "cell_type": "markdown",
   "metadata": {},
   "source": [
    "`time` and `timeit` return overall runtimes but don't give us any more granularity into which parts of a program are taking up time.\n",
    "\n",
    "Remember, `sumulate` is calling three separate functions, how can we tell which of them is taking up which portion of the overall run time?\n",
    "\n",
    "We use a profiler!\n",
    "\n",
    "In the notebook and IPython, we can use the `prun` magic to profile a function:"
   ]
  },
  {
   "cell_type": "code",
   "execution_count": null,
   "metadata": {},
   "outputs": [],
   "source": [
    "%prun sumulate(150)"
   ]
  },
  {
   "cell_type": "code",
   "execution_count": null,
   "metadata": {},
   "outputs": [],
   "source": [
    "%prun?"
   ]
  },
  {
   "cell_type": "markdown",
   "metadata": {},
   "source": [
    "\n",
    "`tottime`: The total time spent in this function excluding functions called by this function.\n",
    "\n",
    "`cumtime`: The cumulative time spent in this function including the time spent in all functions called in this function.\n",
    "\n",
    "`ncalls`: The total number of calls to the function.\n"
   ]
  },
  {
   "cell_type": "markdown",
   "metadata": {},
   "source": [
    "Alternatively, you can import the `cProfile` module and use it directly. \n",
    "By default it returns a report like the one above.  Or you can save the results to a file for use with a separate visualization tool."
   ]
  },
  {
   "cell_type": "code",
   "execution_count": null,
   "metadata": {},
   "outputs": [],
   "source": [
    "import cProfile"
   ]
  },
  {
   "cell_type": "code",
   "execution_count": null,
   "metadata": {},
   "outputs": [],
   "source": [
    "cProfile.run(\"sumulate(150)\")"
   ]
  },
  {
   "cell_type": "markdown",
   "metadata": {},
   "source": [
    "### Command line equivalent\n",
    "```\n",
    "python -m cProfile -o program.prof my_program.py\n",
    "```"
   ]
  },
  {
   "cell_type": "markdown",
   "metadata": {},
   "source": [
    "## Visualizing profiler output"
   ]
  },
  {
   "cell_type": "code",
   "execution_count": null,
   "metadata": {},
   "outputs": [],
   "source": [
    "%load_ext snakeviz"
   ]
  },
  {
   "cell_type": "code",
   "execution_count": null,
   "metadata": {},
   "outputs": [],
   "source": [
    "%snakeviz?"
   ]
  },
  {
   "cell_type": "code",
   "execution_count": null,
   "metadata": {},
   "outputs": [],
   "source": [
    "%snakeviz sumulate(150)"
   ]
  },
  {
   "cell_type": "markdown",
   "metadata": {},
   "source": [
    "### Command line equivalent"
   ]
  },
  {
   "cell_type": "markdown",
   "metadata": {},
   "source": [
    "```console\n",
    "python -m cProfile -o program.prof my_program.py\n",
    "snakeviz program.prof\n",
    "```\n"
   ]
  },
  {
   "cell_type": "markdown",
   "metadata": {},
   "source": [
    "# `line_profiler`"
   ]
  },
  {
   "cell_type": "markdown",
   "metadata": {},
   "source": [
    "`time` and `timeit` gave us overall timings.\n",
    "`cProfile` gave us function-by-function timings.\n",
    "What if we want to go further?  \n",
    "\n",
    "Enter the `line_profiler`:"
   ]
  },
  {
   "cell_type": "code",
   "execution_count": null,
   "metadata": {},
   "outputs": [],
   "source": [
    "%load_ext line_profiler"
   ]
  },
  {
   "cell_type": "code",
   "execution_count": null,
   "metadata": {},
   "outputs": [],
   "source": [
    "%lprun -f sumulate sumulate(150)\n",
    "# -f <function to profile> <some call that will cause that function to run>"
   ]
  },
  {
   "cell_type": "markdown",
   "metadata": {},
   "source": [
    "Let's save those results out to a text file and then load them for easier viewing:"
   ]
  },
  {
   "cell_type": "code",
   "execution_count": null,
   "metadata": {},
   "outputs": [],
   "source": [
    "%lprun -T sumulate_lines.txt -f sumulate sumulate(150)"
   ]
  },
  {
   "cell_type": "code",
   "execution_count": null,
   "metadata": {},
   "outputs": [],
   "source": [
    "%load sumulate_lines.txt"
   ]
  },
  {
   "cell_type": "markdown",
   "metadata": {},
   "source": [
    "You can profile multiple functions in a single run:"
   ]
  },
  {
   "cell_type": "code",
   "execution_count": null,
   "metadata": {},
   "outputs": [],
   "source": [
    "%lprun -f weird_call -f bad_call -f worse_call sumulate(150)"
   ]
  }
 ],
 "metadata": {
  "kernelspec": {
   "display_name": "Python 3",
   "language": "python",
   "name": "python3"
  },
  "language_info": {
   "codemirror_mode": {
    "name": "ipython",
    "version": 3
   },
   "file_extension": ".py",
   "mimetype": "text/x-python",
   "name": "python",
   "nbconvert_exporter": "python",
   "pygments_lexer": "ipython3",
   "version": "3.7.3"
  }
 },
 "nbformat": 4,
 "nbformat_minor": 2
}
